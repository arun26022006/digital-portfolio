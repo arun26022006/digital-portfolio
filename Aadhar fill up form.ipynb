{
  "cells": [
    {
      "cell_type": "markdown",
      "metadata": {
        "id": "view-in-github",
        "colab_type": "text"
      },
      "source": [
        "<a href=\"https://colab.research.google.com/github/arun26022006/digital-portfolio/blob/main/Aadhar%20fill%20up%20form.ipynb\" target=\"_parent\"><img src=\"https://colab.research.google.com/assets/colab-badge.svg\" alt=\"Open In Colab\"/></a>"
      ]
    },
    {
      "cell_type": "markdown",
      "source": [
        "Aadhar fill up form"
      ],
      "metadata": {
        "id": "H62mht8W92qf"
      }
    },
    {
      "cell_type": "code",
      "source": [
        "\n",
        "class AadhaarRegistration:\n",
        "    def __init__(self):\n",
        "        self.name = \"\"\n",
        "        self.date_of_birth = \"\"\n",
        "        self.address = \"\"\n",
        "        self.mobile_number = \"\"\n",
        "        self.email_id = \"\"\n",
        "\n",
        "    def fill_form(self):\n",
        "        self.name = input(\"Enter your full name: \")\n",
        "        self.date_of_birth = input(\"Enter your date of birth (DD/MM/YYYY): \")\n",
        "        self.address = input(\"Enter your address: \")\n",
        "        self.mobile_number = input(\"Enter your mobile number: \")\n",
        "        self.email_id = input(\"Enter your email ID: \")\n",
        "\n",
        "    def display_details(self):\n",
        "        print(\"\\nAadhaar Registration Details:\")\n",
        "        print(f\"Name: {self.name}\")\n",
        "        print(f\"Date of Birth: {self.date_of_birth}\")\n",
        "        print(f\"Address: {self.address}\")\n",
        "        print(f\"Mobile Number: {self.mobile_number}\")\n",
        "        print(f\"Email ID: {self.email_id}\")\n",
        "\n",
        "def main():\n",
        "    registration = AadhaarRegistration()\n",
        "    print(\"Aadhaar Registration Form\")\n",
        "    registration.fill_form()\n",
        "    registration.display_details()\n",
        "\n",
        "if __name__ == \"__main__\":\n",
        "    main()"
      ],
      "metadata": {
        "id": "LVYOcK8Q95fY",
        "outputId": "5fb71074-6ac6-429c-ef7d-1a52cd853078",
        "colab": {
          "base_uri": "https://localhost:8080/"
        }
      },
      "execution_count": 1,
      "outputs": [
        {
          "output_type": "stream",
          "name": "stdout",
          "text": [
            "Aadhaar Registration Form\n",
            "Enter your full name: Arun\n",
            "Enter your date of birth (DD/MM/YYYY): 26/02/2006\n",
            "Enter your address: ****\n",
            "Enter your mobile number: ****\n",
            "Enter your email ID: ****@gmail.com\n",
            "\n",
            "Aadhaar Registration Details:\n",
            "Name: Arun\n",
            "Date of Birth: 26/02/2006\n",
            "Address: ****\n",
            "Mobile Number: ****\n",
            "Email ID: ****@gmail.com\n"
          ]
        }
      ]
    }
  ],
  "metadata": {
    "colab": {
      "name": "Welcome To Colab",
      "provenance": [],
      "include_colab_link": true
    },
    "kernelspec": {
      "display_name": "Python 3",
      "name": "python3"
    }
  },
  "nbformat": 4,
  "nbformat_minor": 0
}