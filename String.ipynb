{
  "cells": [
    {
      "cell_type": "markdown",
      "metadata": {
        "id": "view-in-github",
        "colab_type": "text"
      },
      "source": [
        "<a href=\"https://colab.research.google.com/github/arun26022006/digital-portfolio/blob/main/String.ipynb\" target=\"_parent\"><img src=\"https://colab.research.google.com/assets/colab-badge.svg\" alt=\"Open In Colab\"/></a>"
      ]
    },
    {
      "cell_type": "markdown",
      "source": [
        "String program"
      ],
      "metadata": {
        "id": "Vv59ni5Qps35"
      }
    },
    {
      "cell_type": "code",
      "source": [
        "\n",
        "# Simple program to reverse a string\n",
        "\n",
        "# Input string\n",
        "text = \"Hello, World!\"\n",
        "\n",
        "# Reverse the string using slicing\n",
        "reversed_text = text[::-1]\n",
        "\n",
        "# Output\n",
        "print(\"Original String:\", text)\n",
        "print(\"Reversed String:\", reversed_text)"
      ],
      "metadata": {
        "id": "W1F-CrA5pxHb",
        "outputId": "21c1ea6a-23ca-42cf-a1c1-471380f7d9cc",
        "colab": {
          "base_uri": "https://localhost:8080/"
        }
      },
      "execution_count": 1,
      "outputs": [
        {
          "output_type": "stream",
          "name": "stdout",
          "text": [
            "Original String: Hello, World!\n",
            "Reversed String: !dlroW ,olleH\n"
          ]
        }
      ]
    }
  ],
  "metadata": {
    "colab": {
      "name": "Welcome To Colab",
      "provenance": [],
      "include_colab_link": true
    },
    "kernelspec": {
      "display_name": "Python 3",
      "name": "python3"
    }
  },
  "nbformat": 4,
  "nbformat_minor": 0
}