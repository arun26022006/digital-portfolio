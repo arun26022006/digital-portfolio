{
  "cells": [
    {
      "cell_type": "markdown",
      "metadata": {
        "id": "view-in-github",
        "colab_type": "text"
      },
      "source": [
        "<a href=\"https://colab.research.google.com/github/arun26022006/digital-portfolio/blob/main/Constructor.ipynb\" target=\"_parent\"><img src=\"https://colab.research.google.com/assets/colab-badge.svg\" alt=\"Open In Colab\"/></a>"
      ]
    },
    {
      "cell_type": "markdown",
      "source": [
        "Constructor"
      ],
      "metadata": {
        "id": "9vxkNIl-FjWc"
      }
    },
    {
      "cell_type": "code",
      "source": [
        "class Person:\n",
        "    def __init__(self, name, age):\n",
        "        self.name = name\n",
        "        self.age = age\n",
        "        print(f\"Person {self.name} created.\")\n",
        "\n",
        "    def display_details(self):\n",
        "        print(f\"Name: {self.name}\")\n",
        "        print(f\"Age: {self.age}\")\n",
        "\n",
        "person1 = Person(\"John Doe\", 30)\n",
        "person2 = Person(\"Jane Doe\", 25)\n",
        "\n",
        "print(\"Person 1 Details:\")\n",
        "person1.display_details()"
      ],
      "metadata": {
        "id": "QKM-g0D7G96n",
        "outputId": "150a797a-62bf-4605-eb54-574724e8f37a",
        "colab": {
          "base_uri": "https://localhost:8080/"
        }
      },
      "execution_count": 22,
      "outputs": [
        {
          "output_type": "stream",
          "name": "stdout",
          "text": [
            "Person John Doe created.\n",
            "Person Jane Doe created.\n",
            "Person 1 Details:\n",
            "Name: John Doe\n",
            "Age: 30\n"
          ]
        }
      ]
    }
  ],
  "metadata": {
    "colab": {
      "name": "Welcome To Colab",
      "provenance": [],
      "include_colab_link": true
    },
    "kernelspec": {
      "display_name": "Python 3",
      "name": "python3"
    }
  },
  "nbformat": 4,
  "nbformat_minor": 0
}